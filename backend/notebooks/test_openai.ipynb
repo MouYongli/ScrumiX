{
 "cells": [
  {
   "cell_type": "code",
   "execution_count": null,
   "metadata": {},
   "outputs": [],
   "source": [
    "import os\n",
    "import requests\n",
    "\n",
    "AZURE_OPENAI_API_KEY = \"Your Azure OpenAI API key\"\n",
    "AZURE_OPENAI_ENDPOINT = \"Your Azure OpenAI endpoint\"\n",
    "AZURE_OPENAI_DEPLOYMENT_NAME = \"Your Azure OpenAI deployment name\"\n",
    "\n",
    "url = f\"{AZURE_OPENAI_ENDPOINT}/openai/deployments/{AZURE_OPENAI_DEPLOYMENT_NAME}/embeddings?api-version=2023-05-15\"\n",
    "\n",
    "headers = {\n",
    "    \"Content-Type\": \"application/json\",\n",
    "    \"Authorization\": f\"Bearer {AZURE_OPENAI_API_KEY}\"\n",
    "}\n",
    "\n",
    "data = {\n",
    "    \"input\": \"Your text string goes here\"\n",
    "}\n",
    "\n",
    "response = requests.post(url, headers=headers, json=data)\n",
    "\n",
    "print(response.status_code)\n",
    "\n",
    "try:\n",
    "    print(response.json())\n",
    "except ValueError:  # includes simple checks for JSON decoding\n",
    "    print(\"Response content is not in JSON format.\")"
   ]
  }
 ],
 "metadata": {
  "kernelspec": {
   "display_name": "scrumix",
   "language": "python",
   "name": "python3"
  },
  "language_info": {
   "codemirror_mode": {
    "name": "ipython",
    "version": 3
   },
   "file_extension": ".py",
   "mimetype": "text/x-python",
   "name": "python",
   "nbconvert_exporter": "python",
   "pygments_lexer": "ipython3",
   "version": "3.12.9"
  }
 },
 "nbformat": 4,
 "nbformat_minor": 2
}

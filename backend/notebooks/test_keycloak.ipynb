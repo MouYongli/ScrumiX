{
 "cells": [
  {
   "cell_type": "code",
   "execution_count": null,
   "metadata": {},
   "outputs": [
    {
     "name": "stdout",
     "output_type": "stream",
     "text": [
      "{'access_token': 'eyJhbGciOiJSUzI1NiIsInR5cCIgOiAiSldUIiwia2lkIiA6ICJVRWRMeWRoSGQ4VkhIRjlMX292TFdoZGpJdzA5TDVwZXhBNHB4SHZoeklRIn0.eyJleHAiOjE3NDkyNDU1ODEsImlhdCI6MTc0OTI0NTI4MSwianRpIjoib25ydHJvOjZmZDBiMjllLWM1NzItNDNiYS05YmYxLTlhNjZjN2NiNmZhMSIsImlzcyI6Imh0dHA6Ly9sb2NhbGhvc3Q6ODA4MC9yZWFsbXMvc2NydW1peC1hcHAiLCJhdWQiOiJhY2NvdW50Iiwic3ViIjoiMWYzYzc4MTQtM2ZjMy00NDY4LWJjY2QtMTdkODMzN2JmYTgzIiwidHlwIjoiQmVhcmVyIiwiYXpwIjoic2NydW1peC1jbGllbnQiLCJzaWQiOiI4MGI5NjgyZS1mZmEwLTQ2OTEtYTBiYy1hZmE2MzlmODZhOGIiLCJhY3IiOiIxIiwiYWxsb3dlZC1vcmlnaW5zIjpbImh0dHA6Ly9sb2NhbGhvc3Q6ODAwMCJdLCJyZWFsbV9hY2Nlc3MiOnsicm9sZXMiOlsib2ZmbGluZV9hY2Nlc3MiLCJkZWZhdWx0LXJvbGVzLXNjcnVtaXgtYXBwIiwidW1hX2F1dGhvcml6YXRpb24iXX0sInJlc291cmNlX2FjY2VzcyI6eyJhY2NvdW50Ijp7InJvbGVzIjpbIm1hbmFnZS1hY2NvdW50IiwibWFuYWdlLWFjY291bnQtbGlua3MiLCJ2aWV3LXByb2ZpbGUiXX19LCJzY29wZSI6Im9wZW5pZCBlbWFpbCBwcm9maWxlIiwiZW1haWxfdmVyaWZpZWQiOmZhbHNlLCJuYW1lIjoiWW9uZ2xpIE1vdSIsInByZWZlcnJlZF91c2VybmFtZSI6InlvbmdsaS5tb3UiLCJnaXZlbl9uYW1lIjoiWW9uZ2xpIiwiZmFtaWx5X25hbWUiOiJNb3UiLCJlbWFpbCI6Im1vdUBkYmlzLnJ3dGgtYWFjaGVuLmRlIn0.KZjHJXlAtE8QoUSyLChdCt2mH7j1LRglgawZOazT70mdQeKVqF0DdnaInYx4Olx_HZLdCMKQ7Wagckh_He9wJtx_AioIBQhMwKMZEJ-Q41_Llo_supfZgp0-CcmYf19RPXDRNVz75cC7uaJkjP16WF9iQUSs0rUW4Se82Ep2ah98ELhLyrV8w5sAMR99eKMIKpecOvelTKtBE3DFyU7Jgnn_yf7wpvlBZJrHx0tbkpNXDlotcaZ6IpUAwDAPTKmpamTogALz1JLpxdi7ifjirWcryxE3GCZKnyqNjL5jntx7nLw1nNvLdlERfaTVn9XNo1z7iiiWN3vdBDn_mUOVOA', 'expires_in': 300, 'refresh_expires_in': 1800, 'refresh_token': 'eyJhbGciOiJIUzUxMiIsInR5cCIgOiAiSldUIiwia2lkIiA6ICIxZTJiMDRkZi0wZWEwLTQwNDktOTY4ZC05NmMwMGQwY2YxZTEifQ.eyJleHAiOjE3NDkyNDcwODEsImlhdCI6MTc0OTI0NTI4MSwianRpIjoiOWY0MTE3NjMtZWY0Ny00NDdlLWE0ODAtZThjMmJmNmRhMjY4IiwiaXNzIjoiaHR0cDovL2xvY2FsaG9zdDo4MDgwL3JlYWxtcy9zY3J1bWl4LWFwcCIsImF1ZCI6Imh0dHA6Ly9sb2NhbGhvc3Q6ODA4MC9yZWFsbXMvc2NydW1peC1hcHAiLCJzdWIiOiIxZjNjNzgxNC0zZmMzLTQ0NjgtYmNjZC0xN2Q4MzM3YmZhODMiLCJ0eXAiOiJSZWZyZXNoIiwiYXpwIjoic2NydW1peC1jbGllbnQiLCJzaWQiOiI4MGI5NjgyZS1mZmEwLTQ2OTEtYTBiYy1hZmE2MzlmODZhOGIiLCJzY29wZSI6Im9wZW5pZCBlbWFpbCBwcm9maWxlIGJhc2ljIHNlcnZpY2VfYWNjb3VudCBhY3Igcm9sZXMgd2ViLW9yaWdpbnMifQ.YCaKRbxFIgupyO3My-Qd9Gycsbi1EPWdO8WbucggasrEqe2BrXHJbcgUShi44_OM-2jH4TC8OnvHC85E-ONGsA', 'token_type': 'Bearer', 'id_token': 'eyJhbGciOiJSUzI1NiIsInR5cCIgOiAiSldUIiwia2lkIiA6ICJVRWRMeWRoSGQ4VkhIRjlMX292TFdoZGpJdzA5TDVwZXhBNHB4SHZoeklRIn0.eyJleHAiOjE3NDkyNDU1ODEsImlhdCI6MTc0OTI0NTI4MSwianRpIjoiMzIxNjc4ZWQtODhlZC00MGY0LTg1MmMtZWQ2YTA3ZWJlM2QzIiwiaXNzIjoiaHR0cDovL2xvY2FsaG9zdDo4MDgwL3JlYWxtcy9zY3J1bWl4LWFwcCIsImF1ZCI6InNjcnVtaXgtY2xpZW50Iiwic3ViIjoiMWYzYzc4MTQtM2ZjMy00NDY4LWJjY2QtMTdkODMzN2JmYTgzIiwidHlwIjoiSUQiLCJhenAiOiJzY3J1bWl4LWNsaWVudCIsInNpZCI6IjgwYjk2ODJlLWZmYTAtNDY5MS1hMGJjLWFmYTYzOWY4NmE4YiIsImF0X2hhc2giOiJvMk5GOWVxR0JobDBKa0d1X2lTaFd3IiwiYWNyIjoiMSIsImVtYWlsX3ZlcmlmaWVkIjpmYWxzZSwibmFtZSI6IllvbmdsaSBNb3UiLCJwcmVmZXJyZWRfdXNlcm5hbWUiOiJ5b25nbGkubW91IiwiZ2l2ZW5fbmFtZSI6IllvbmdsaSIsImZhbWlseV9uYW1lIjoiTW91IiwiZW1haWwiOiJtb3VAZGJpcy5yd3RoLWFhY2hlbi5kZSJ9.M-g30LpkgPIIwujb3Nz8uSiHaGJ1P87teNvcuDZCZl7A0T4YQs2a0Vfd3aZbzFSkf8T_EU9OhyZn-A5Og5TbNessDA_bf27yZfD-fD1VuiwuXZf9YATVfMj1R1YnfQKL-49hKTnwaMlExKCG11z15_45lI-QliXGDmNP6ZFycTZSpfE7XkedXkEBhwuc0Ia2ABiyIfI__9bun0NcH9N9l2G9-XVHASXllV1MvZVQxMe5ABKHME6eA81l4PeaxOwu8rIoMB1gAZu46fKOQnOmDHktbyEV-CizI4e0jqyRscW0nTuw68i_LUulYapoH9qEk9ALmB_a2l3OQ_fSDQsrOQ', 'not-before-policy': 0, 'session_state': '80b9682e-ffa0-4691-a0bc-afa639f86a8b', 'scope': 'openid email profile'}\n",
      "200\n",
      "{'email': 'mou@dbis.rwth-aachen.de',\n",
      " 'email_verified': False,\n",
      " 'family_name': 'Mou',\n",
      " 'given_name': 'Yongli',\n",
      " 'name': 'Yongli Mou',\n",
      " 'preferred_username': 'yongli.mou',\n",
      " 'sub': '1f3c7814-3fc3-4468-bccd-17d8337bfa83'}\n"
     ]
    }
   ],
   "source": [
    "import requests\n",
    "import pprint\n",
    "\n",
    "# 1. 获取OpenID配置\n",
    "openid_config_endpoint = \"http://localhost:8080/realms/scrumix-app/.well-known/openid-configuration\"\n",
    "openid_config = requests.get(openid_config_point).json()\n",
    "\n",
    "token_endpoint = openid_config[\"token_endpoint\"]\n",
    "userinfo_endpoint = openid_config[\"userinfo_endpoint\"]\n",
    "\n",
    "# 2. 获取token\n",
    "token_data = {\n",
    "    \"grant_type\": \"password\",\n",
    "    \"client_id\": \"scrumix-client\",\n",
    "    \"client_secret\": \"ACo03Wj1ASzBhZfjm90dbnDOFp8BCBDp\",\n",
    "    \"username\": \"yongli.mou\",\n",
    "    \"password\": \"scrumix\",\n",
    "    \"scope\": \"openid\"\n",
    "}\n",
    "\n",
    "token_headers = {\n",
    "    \"Content-Type\": \"application/x-www-form-urlencoded\",\n",
    "    \"Accept\": \"application/json\"\n",
    "}\n",
    "\n",
    "token_response = requests.post(token_endpoint, data=token_data, headers=token_headers)\n",
    "token_json = token_response.json()\n",
    "print(token_json)\n",
    "\n",
    "access_token = token_json[\"access_token\"]\n",
    "\n",
    "# 3. 获取userinfo\n",
    "userinfo_headers = {\n",
    "    \"Authorization\": f\"Bearer {access_token}\",\n",
    "    \"Accept\": \"application/json\"\n",
    "}\n",
    "userinfo_response = requests.get(userinfo_endpoint, headers=userinfo_headers)\n",
    "print(userinfo_response.status_code)\n",
    "pprint.pprint(userinfo_response.json())\n"
   ]
  }
 ],
 "metadata": {
  "kernelspec": {
   "display_name": "scrumix",
   "language": "python",
   "name": "python3"
  },
  "language_info": {
   "codemirror_mode": {
    "name": "ipython",
    "version": 3
   },
   "file_extension": ".py",
   "mimetype": "text/x-python",
   "name": "python",
   "nbconvert_exporter": "python",
   "pygments_lexer": "ipython3",
   "version": "3.12.9"
  }
 },
 "nbformat": 4,
 "nbformat_minor": 2
}
